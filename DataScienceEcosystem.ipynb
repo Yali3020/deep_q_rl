{
  "nbformat": 4,
  "nbformat_minor": 0,
  "metadata": {
    "colab": {
      "provenance": [],
      "authorship_tag": "ABX9TyN85ma/f4IJderP/GUhpG1f",
      "include_colab_link": true
    },
    "kernelspec": {
      "name": "python3",
      "display_name": "Python 3"
    },
    "language_info": {
      "name": "python"
    }
  },
  "cells": [
    {
      "cell_type": "markdown",
      "metadata": {
        "id": "view-in-github",
        "colab_type": "text"
      },
      "source": [
        "<a href=\"https://colab.research.google.com/github/Yali3020/deep_q_rl/blob/master/DataScienceEcosystem.ipynb\" target=\"_parent\"><img src=\"https://colab.research.google.com/assets/colab-badge.svg\" alt=\"Open In Colab\"/></a>"
      ]
    },
    {
      "cell_type": "markdown",
      "source": [
        "Exercise 2:\n",
        "#Data Science Tools and Ecosystem"
      ],
      "metadata": {
        "id": "RZdsFAS7z6gI"
      }
    },
    {
      "cell_type": "markdown",
      "source": [
        "Exercise 3:\n",
        "\n",
        "In this notebook, Data Science Tools and Ecosystem are summarized"
      ],
      "metadata": {
        "id": "mBtH_jLi08k8"
      }
    },
    {
      "cell_type": "markdown",
      "source": [
        "Exercise 4:\n",
        "\n",
        "Some of the popular languages that Data Scientists use are:\n",
        "\n",
        "1. Python\n",
        "2. R\n",
        "3. SQL\n",
        "4. Julia\n"
      ],
      "metadata": {
        "id": "FYu4Mtwi1toM"
      }
    },
    {
      "cell_type": "markdown",
      "source": [
        "Exercise 5:\n",
        "\n",
        "Some of the commonly used libraries used by Data Scientists include:\n",
        "\n",
        "1. Pandas - A library providing high-performance, easy-to-use data structures and data analysis tools.\n",
        "2. NumPy - A fundamental package for scientific computing with Python, offering support for large, multi-dimensional arrays and matrices, along with a collection of mathematical functions to operate on these arrays.\n",
        "3. Matplotlib - A plotting library for the Python programming language and its numerical mathematics extension NumPy, allowing for the creation of static, animated, and interactive visualizations in Python.\n",
        "4. Scikit-learn - A library for machine learning in Python, providing simple and efficient tools for data mining and data analysis, built on NumPy, SciPy, and Matplotlib.\n"
      ],
      "metadata": {
        "id": "ZgWWOdze5Lpt"
      }
    },
    {
      "cell_type": "markdown",
      "source": [
        "Exercise 6:\n",
        "\n",
        "|Data Science Tools|\n",
        "|------------------|\n",
        "|Jupyter Notebooks |\n",
        "|RStudio           |\n",
        "|Apache Zeppelin   |\n"
      ],
      "metadata": {
        "id": "ZNS4Y3fV7XSN"
      }
    },
    {
      "cell_type": "markdown",
      "source": [
        "Exercise 7:\n",
        "### Below are a few examples of evaluating arithmetic expressions in Python.\n",
        "\n",
        "- **Addition** (`+`): `3 + 4` evaluates to `7`.\n",
        "- **Subtraction** (`-`): `10 - 3` evaluates to `7`.\n",
        "- **Multiplication** (`*`): `2 * 5` evaluates to `10`.\n",
        "- **Division** (`/`): `8 / 2` evaluates to `4`.\n",
        "- **Floor Division** (`//`): `9 // 2` evaluates to `4`, which is the quotient of `9` divided by `2`, rounded down to the nearest whole number.\n",
        "- **Modulus** (`%`): `7 % 3` evaluates to `1`, which is the remainder of `7` divided by `3`.\n",
        "- **Exponentiation** (`**`): `2 ** 3` evaluates to `8`, which means `2` raised to the power of `3`."
      ],
      "metadata": {
        "id": "31PhUl8RBPvL"
      }
    },
    {
      "cell_type": "code",
      "source": [
        "## Exercise 8\n",
        "(3*4)+5"
      ],
      "metadata": {
        "colab": {
          "base_uri": "https://localhost:8080/"
        },
        "id": "dd9e_eM6BqQn",
        "outputId": "8c0f3ccb-2512-48fd-cc5f-0fd49b3742f0"
      },
      "execution_count": 1,
      "outputs": [
        {
          "output_type": "execute_result",
          "data": {
            "text/plain": [
              "17"
            ]
          },
          "metadata": {},
          "execution_count": 1
        }
      ]
    },
    {
      "cell_type": "code",
      "source": [
        "# Exercise 9\n",
        "200/60"
      ],
      "metadata": {
        "colab": {
          "base_uri": "https://localhost:8080/"
        },
        "id": "NUecysGsD_z0",
        "outputId": "9de4b907-6dc8-475b-cb38-f49b9196c011"
      },
      "execution_count": 2,
      "outputs": [
        {
          "output_type": "execute_result",
          "data": {
            "text/plain": [
              "3.3333333333333335"
            ]
          },
          "metadata": {},
          "execution_count": 2
        }
      ]
    },
    {
      "cell_type": "markdown",
      "source": [
        "Exercise 10\n",
        "\n",
        "**Objectives:**\n",
        "\n",
        "- List popular languages for Data Science.\n",
        "- Identify commonly used Data Science libraries.\n",
        "- Describe how to create tables in Markdown.\n",
        "- Show examples of arithmetic expressions in Python.\n",
        "- Demonstrate converting minutes to hours in Python."
      ],
      "metadata": {
        "id": "Y8ieBwP9EH_j"
      }
    },
    {
      "cell_type": "markdown",
      "source": [
        "## Author\n",
        "\n",
        "Yali"
      ],
      "metadata": {
        "id": "yJ9D2Y82FlJG"
      }
    }
  ]
}